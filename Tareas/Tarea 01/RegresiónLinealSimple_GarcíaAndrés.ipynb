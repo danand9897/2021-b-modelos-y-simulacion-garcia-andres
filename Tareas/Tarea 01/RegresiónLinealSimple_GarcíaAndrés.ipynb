{
  "nbformat": 4,
  "nbformat_minor": 0,
  "metadata": {
    "colab": {
      "name": "RegresiónLinealSimple_GarcíaAndrés.ipynb",
      "provenance": []
    },
    "kernelspec": {
      "name": "python3",
      "display_name": "Python 3"
    },
    "language_info": {
      "name": "python"
    }
  },
  "cells": [
    {
      "cell_type": "code",
      "metadata": {
        "id": "RvnGuS5Ju0e7"
      },
      "source": [
        "#Importación necesaria\n",
        "import numpy as np\n",
        "import matplotlib.pyplot as plt\n",
        "import pandas as pd"
      ],
      "execution_count": 1,
      "outputs": []
    },
    {
      "cell_type": "code",
      "metadata": {
        "id": "VTHAC1CovEDp"
      },
      "source": [
        "df = pd.read_csv('/content/drive/MyDrive/ColabNotebooks/Modelos y Simulación /Salary_Data.txt')"
      ],
      "execution_count": 2,
      "outputs": []
    },
    {
      "cell_type": "code",
      "metadata": {
        "colab": {
          "base_uri": "https://localhost:8080/"
        },
        "id": "wQUVvu9hRlzg",
        "outputId": "52fce2f0-3e91-4c06-e332-5511c847ed3d"
      },
      "source": [
        "df.info()"
      ],
      "execution_count": 3,
      "outputs": [
        {
          "output_type": "stream",
          "name": "stdout",
          "text": [
            "<class 'pandas.core.frame.DataFrame'>\n",
            "RangeIndex: 30 entries, 0 to 29\n",
            "Data columns (total 2 columns):\n",
            " #   Column           Non-Null Count  Dtype  \n",
            "---  ------           --------------  -----  \n",
            " 0   YearsExperience  30 non-null     float64\n",
            " 1   Salary           30 non-null     int64  \n",
            "dtypes: float64(1), int64(1)\n",
            "memory usage: 608.0 bytes\n"
          ]
        }
      ]
    },
    {
      "cell_type": "code",
      "metadata": {
        "colab": {
          "base_uri": "https://localhost:8080/",
          "height": 973
        },
        "id": "DfpZGalHRuIB",
        "outputId": "fc988336-5751-4f59-cc66-f64df4b0ec16"
      },
      "source": [
        "df"
      ],
      "execution_count": 4,
      "outputs": [
        {
          "output_type": "execute_result",
          "data": {
            "text/html": [
              "<div>\n",
              "<style scoped>\n",
              "    .dataframe tbody tr th:only-of-type {\n",
              "        vertical-align: middle;\n",
              "    }\n",
              "\n",
              "    .dataframe tbody tr th {\n",
              "        vertical-align: top;\n",
              "    }\n",
              "\n",
              "    .dataframe thead th {\n",
              "        text-align: right;\n",
              "    }\n",
              "</style>\n",
              "<table border=\"1\" class=\"dataframe\">\n",
              "  <thead>\n",
              "    <tr style=\"text-align: right;\">\n",
              "      <th></th>\n",
              "      <th>YearsExperience</th>\n",
              "      <th>Salary</th>\n",
              "    </tr>\n",
              "  </thead>\n",
              "  <tbody>\n",
              "    <tr>\n",
              "      <th>0</th>\n",
              "      <td>1.1</td>\n",
              "      <td>39343</td>\n",
              "    </tr>\n",
              "    <tr>\n",
              "      <th>1</th>\n",
              "      <td>1.3</td>\n",
              "      <td>46205</td>\n",
              "    </tr>\n",
              "    <tr>\n",
              "      <th>2</th>\n",
              "      <td>1.5</td>\n",
              "      <td>37731</td>\n",
              "    </tr>\n",
              "    <tr>\n",
              "      <th>3</th>\n",
              "      <td>2.0</td>\n",
              "      <td>43525</td>\n",
              "    </tr>\n",
              "    <tr>\n",
              "      <th>4</th>\n",
              "      <td>2.2</td>\n",
              "      <td>39891</td>\n",
              "    </tr>\n",
              "    <tr>\n",
              "      <th>5</th>\n",
              "      <td>2.9</td>\n",
              "      <td>56642</td>\n",
              "    </tr>\n",
              "    <tr>\n",
              "      <th>6</th>\n",
              "      <td>3.0</td>\n",
              "      <td>60150</td>\n",
              "    </tr>\n",
              "    <tr>\n",
              "      <th>7</th>\n",
              "      <td>3.2</td>\n",
              "      <td>54445</td>\n",
              "    </tr>\n",
              "    <tr>\n",
              "      <th>8</th>\n",
              "      <td>3.2</td>\n",
              "      <td>64445</td>\n",
              "    </tr>\n",
              "    <tr>\n",
              "      <th>9</th>\n",
              "      <td>3.7</td>\n",
              "      <td>57189</td>\n",
              "    </tr>\n",
              "    <tr>\n",
              "      <th>10</th>\n",
              "      <td>3.9</td>\n",
              "      <td>63218</td>\n",
              "    </tr>\n",
              "    <tr>\n",
              "      <th>11</th>\n",
              "      <td>4.0</td>\n",
              "      <td>55794</td>\n",
              "    </tr>\n",
              "    <tr>\n",
              "      <th>12</th>\n",
              "      <td>4.0</td>\n",
              "      <td>56957</td>\n",
              "    </tr>\n",
              "    <tr>\n",
              "      <th>13</th>\n",
              "      <td>4.1</td>\n",
              "      <td>57081</td>\n",
              "    </tr>\n",
              "    <tr>\n",
              "      <th>14</th>\n",
              "      <td>4.5</td>\n",
              "      <td>61111</td>\n",
              "    </tr>\n",
              "    <tr>\n",
              "      <th>15</th>\n",
              "      <td>4.9</td>\n",
              "      <td>67938</td>\n",
              "    </tr>\n",
              "    <tr>\n",
              "      <th>16</th>\n",
              "      <td>5.1</td>\n",
              "      <td>66029</td>\n",
              "    </tr>\n",
              "    <tr>\n",
              "      <th>17</th>\n",
              "      <td>5.3</td>\n",
              "      <td>83088</td>\n",
              "    </tr>\n",
              "    <tr>\n",
              "      <th>18</th>\n",
              "      <td>5.9</td>\n",
              "      <td>81363</td>\n",
              "    </tr>\n",
              "    <tr>\n",
              "      <th>19</th>\n",
              "      <td>6.0</td>\n",
              "      <td>93940</td>\n",
              "    </tr>\n",
              "    <tr>\n",
              "      <th>20</th>\n",
              "      <td>6.8</td>\n",
              "      <td>91738</td>\n",
              "    </tr>\n",
              "    <tr>\n",
              "      <th>21</th>\n",
              "      <td>7.1</td>\n",
              "      <td>98273</td>\n",
              "    </tr>\n",
              "    <tr>\n",
              "      <th>22</th>\n",
              "      <td>7.9</td>\n",
              "      <td>101302</td>\n",
              "    </tr>\n",
              "    <tr>\n",
              "      <th>23</th>\n",
              "      <td>8.2</td>\n",
              "      <td>113812</td>\n",
              "    </tr>\n",
              "    <tr>\n",
              "      <th>24</th>\n",
              "      <td>8.7</td>\n",
              "      <td>109431</td>\n",
              "    </tr>\n",
              "    <tr>\n",
              "      <th>25</th>\n",
              "      <td>9.0</td>\n",
              "      <td>105582</td>\n",
              "    </tr>\n",
              "    <tr>\n",
              "      <th>26</th>\n",
              "      <td>9.5</td>\n",
              "      <td>116969</td>\n",
              "    </tr>\n",
              "    <tr>\n",
              "      <th>27</th>\n",
              "      <td>9.6</td>\n",
              "      <td>112635</td>\n",
              "    </tr>\n",
              "    <tr>\n",
              "      <th>28</th>\n",
              "      <td>10.3</td>\n",
              "      <td>122391</td>\n",
              "    </tr>\n",
              "    <tr>\n",
              "      <th>29</th>\n",
              "      <td>10.5</td>\n",
              "      <td>121872</td>\n",
              "    </tr>\n",
              "  </tbody>\n",
              "</table>\n",
              "</div>"
            ],
            "text/plain": [
              "    YearsExperience  Salary\n",
              "0               1.1   39343\n",
              "1               1.3   46205\n",
              "2               1.5   37731\n",
              "3               2.0   43525\n",
              "4               2.2   39891\n",
              "5               2.9   56642\n",
              "6               3.0   60150\n",
              "7               3.2   54445\n",
              "8               3.2   64445\n",
              "9               3.7   57189\n",
              "10              3.9   63218\n",
              "11              4.0   55794\n",
              "12              4.0   56957\n",
              "13              4.1   57081\n",
              "14              4.5   61111\n",
              "15              4.9   67938\n",
              "16              5.1   66029\n",
              "17              5.3   83088\n",
              "18              5.9   81363\n",
              "19              6.0   93940\n",
              "20              6.8   91738\n",
              "21              7.1   98273\n",
              "22              7.9  101302\n",
              "23              8.2  113812\n",
              "24              8.7  109431\n",
              "25              9.0  105582\n",
              "26              9.5  116969\n",
              "27              9.6  112635\n",
              "28             10.3  122391\n",
              "29             10.5  121872"
            ]
          },
          "metadata": {},
          "execution_count": 4
        }
      ]
    },
    {
      "cell_type": "code",
      "metadata": {
        "colab": {
          "base_uri": "https://localhost:8080/",
          "height": 295
        },
        "id": "80dXJbIGRo_5",
        "outputId": "27cb01a9-e4ba-4bfe-90ba-5d2533cb5df8"
      },
      "source": [
        "df.describe()"
      ],
      "execution_count": 5,
      "outputs": [
        {
          "output_type": "execute_result",
          "data": {
            "text/html": [
              "<div>\n",
              "<style scoped>\n",
              "    .dataframe tbody tr th:only-of-type {\n",
              "        vertical-align: middle;\n",
              "    }\n",
              "\n",
              "    .dataframe tbody tr th {\n",
              "        vertical-align: top;\n",
              "    }\n",
              "\n",
              "    .dataframe thead th {\n",
              "        text-align: right;\n",
              "    }\n",
              "</style>\n",
              "<table border=\"1\" class=\"dataframe\">\n",
              "  <thead>\n",
              "    <tr style=\"text-align: right;\">\n",
              "      <th></th>\n",
              "      <th>YearsExperience</th>\n",
              "      <th>Salary</th>\n",
              "    </tr>\n",
              "  </thead>\n",
              "  <tbody>\n",
              "    <tr>\n",
              "      <th>count</th>\n",
              "      <td>30.000000</td>\n",
              "      <td>30.000000</td>\n",
              "    </tr>\n",
              "    <tr>\n",
              "      <th>mean</th>\n",
              "      <td>5.313333</td>\n",
              "      <td>76003.000000</td>\n",
              "    </tr>\n",
              "    <tr>\n",
              "      <th>std</th>\n",
              "      <td>2.837888</td>\n",
              "      <td>27414.429785</td>\n",
              "    </tr>\n",
              "    <tr>\n",
              "      <th>min</th>\n",
              "      <td>1.100000</td>\n",
              "      <td>37731.000000</td>\n",
              "    </tr>\n",
              "    <tr>\n",
              "      <th>25%</th>\n",
              "      <td>3.200000</td>\n",
              "      <td>56720.750000</td>\n",
              "    </tr>\n",
              "    <tr>\n",
              "      <th>50%</th>\n",
              "      <td>4.700000</td>\n",
              "      <td>65237.000000</td>\n",
              "    </tr>\n",
              "    <tr>\n",
              "      <th>75%</th>\n",
              "      <td>7.700000</td>\n",
              "      <td>100544.750000</td>\n",
              "    </tr>\n",
              "    <tr>\n",
              "      <th>max</th>\n",
              "      <td>10.500000</td>\n",
              "      <td>122391.000000</td>\n",
              "    </tr>\n",
              "  </tbody>\n",
              "</table>\n",
              "</div>"
            ],
            "text/plain": [
              "       YearsExperience         Salary\n",
              "count        30.000000      30.000000\n",
              "mean          5.313333   76003.000000\n",
              "std           2.837888   27414.429785\n",
              "min           1.100000   37731.000000\n",
              "25%           3.200000   56720.750000\n",
              "50%           4.700000   65237.000000\n",
              "75%           7.700000  100544.750000\n",
              "max          10.500000  122391.000000"
            ]
          },
          "metadata": {},
          "execution_count": 5
        }
      ]
    },
    {
      "cell_type": "code",
      "metadata": {
        "colab": {
          "base_uri": "https://localhost:8080/"
        },
        "id": "IRVx8sWV3H4d",
        "outputId": "00720e5a-d7bb-4d7a-edad-43f56e0a7e5e"
      },
      "source": [
        "#Comprobar si hay datos vacíos\n",
        "df.isnull().sum()"
      ],
      "execution_count": 6,
      "outputs": [
        {
          "output_type": "execute_result",
          "data": {
            "text/plain": [
              "YearsExperience    0\n",
              "Salary             0\n",
              "dtype: int64"
            ]
          },
          "metadata": {},
          "execution_count": 6
        }
      ]
    },
    {
      "cell_type": "code",
      "metadata": {
        "colab": {
          "base_uri": "https://localhost:8080/",
          "height": 386
        },
        "id": "-3I9WNIi3Nwy",
        "outputId": "a6d9e809-4d7b-4080-c42a-f2b070152563"
      },
      "source": [
        "df.hist(figsize=(15,5))"
      ],
      "execution_count": 7,
      "outputs": [
        {
          "output_type": "execute_result",
          "data": {
            "text/plain": [
              "array([[<matplotlib.axes._subplots.AxesSubplot object at 0x7f60b0fd4610>,\n",
              "        <matplotlib.axes._subplots.AxesSubplot object at 0x7f60b0f94310>]],\n",
              "      dtype=object)"
            ]
          },
          "metadata": {},
          "execution_count": 7
        },
        {
          "output_type": "display_data",
          "data": {
            "image/png": "[encoded data removed]",
            "text/plain": [
              "<Figure size 1080x360 with 2 Axes>"
            ]
          },
          "metadata": {
            "needs_background": "light"
          }
        }
      ]
    },
    {
      "cell_type": "code",
      "metadata": {
        "id": "dI5m4bnp3qDb"
      },
      "source": [
        "df['YearsExperienceBySalary']=df.Salary*df.YearsExperience\n",
        "df['YearsExperienceSquare']=df.YearsExperience*df.YearsExperience\n"
      ],
      "execution_count": 8,
      "outputs": []
    },
    {
      "cell_type": "code",
      "metadata": {
        "colab": {
          "base_uri": "https://localhost:8080/",
          "height": 973
        },
        "id": "jZLeSfQJ4UGL",
        "outputId": "4b9ebdeb-7546-4161-ec57-46fbd51f7671"
      },
      "source": [
        "df"
      ],
      "execution_count": 9,
      "outputs": [
        {
          "output_type": "execute_result",
          "data": {
            "text/html": [
              "<div>\n",
              "<style scoped>\n",
              "    .dataframe tbody tr th:only-of-type {\n",
              "        vertical-align: middle;\n",
              "    }\n",
              "\n",
              "    .dataframe tbody tr th {\n",
              "        vertical-align: top;\n",
              "    }\n",
              "\n",
              "    .dataframe thead th {\n",
              "        text-align: right;\n",
              "    }\n",
              "</style>\n",
              "<table border=\"1\" class=\"dataframe\">\n",
              "  <thead>\n",
              "    <tr style=\"text-align: right;\">\n",
              "      <th></th>\n",
              "      <th>YearsExperience</th>\n",
              "      <th>Salary</th>\n",
              "      <th>YearsExperienceBySalary</th>\n",
              "      <th>YearsExperienceSquare</th>\n",
              "    </tr>\n",
              "  </thead>\n",
              "  <tbody>\n",
              "    <tr>\n",
              "      <th>0</th>\n",
              "      <td>1.1</td>\n",
              "      <td>39343</td>\n",
              "      <td>43277.3</td>\n",
              "      <td>1.21</td>\n",
              "    </tr>\n",
              "    <tr>\n",
              "      <th>1</th>\n",
              "      <td>1.3</td>\n",
              "      <td>46205</td>\n",
              "      <td>60066.5</td>\n",
              "      <td>1.69</td>\n",
              "    </tr>\n",
              "    <tr>\n",
              "      <th>2</th>\n",
              "      <td>1.5</td>\n",
              "      <td>37731</td>\n",
              "      <td>56596.5</td>\n",
              "      <td>2.25</td>\n",
              "    </tr>\n",
              "    <tr>\n",
              "      <th>3</th>\n",
              "      <td>2.0</td>\n",
              "      <td>43525</td>\n",
              "      <td>87050.0</td>\n",
              "      <td>4.00</td>\n",
              "    </tr>\n",
              "    <tr>\n",
              "      <th>4</th>\n",
              "      <td>2.2</td>\n",
              "      <td>39891</td>\n",
              "      <td>87760.2</td>\n",
              "      <td>4.84</td>\n",
              "    </tr>\n",
              "    <tr>\n",
              "      <th>5</th>\n",
              "      <td>2.9</td>\n",
              "      <td>56642</td>\n",
              "      <td>164261.8</td>\n",
              "      <td>8.41</td>\n",
              "    </tr>\n",
              "    <tr>\n",
              "      <th>6</th>\n",
              "      <td>3.0</td>\n",
              "      <td>60150</td>\n",
              "      <td>180450.0</td>\n",
              "      <td>9.00</td>\n",
              "    </tr>\n",
              "    <tr>\n",
              "      <th>7</th>\n",
              "      <td>3.2</td>\n",
              "      <td>54445</td>\n",
              "      <td>174224.0</td>\n",
              "      <td>10.24</td>\n",
              "    </tr>\n",
              "    <tr>\n",
              "      <th>8</th>\n",
              "      <td>3.2</td>\n",
              "      <td>64445</td>\n",
              "      <td>206224.0</td>\n",
              "      <td>10.24</td>\n",
              "    </tr>\n",
              "    <tr>\n",
              "      <th>9</th>\n",
              "      <td>3.7</td>\n",
              "      <td>57189</td>\n",
              "      <td>211599.3</td>\n",
              "      <td>13.69</td>\n",
              "    </tr>\n",
              "    <tr>\n",
              "      <th>10</th>\n",
              "      <td>3.9</td>\n",
              "      <td>63218</td>\n",
              "      <td>246550.2</td>\n",
              "      <td>15.21</td>\n",
              "    </tr>\n",
              "    <tr>\n",
              "      <th>11</th>\n",
              "      <td>4.0</td>\n",
              "      <td>55794</td>\n",
              "      <td>223176.0</td>\n",
              "      <td>16.00</td>\n",
              "    </tr>\n",
              "    <tr>\n",
              "      <th>12</th>\n",
              "      <td>4.0</td>\n",
              "      <td>56957</td>\n",
              "      <td>227828.0</td>\n",
              "      <td>16.00</td>\n",
              "    </tr>\n",
              "    <tr>\n",
              "      <th>13</th>\n",
              "      <td>4.1</td>\n",
              "      <td>57081</td>\n",
              "      <td>234032.1</td>\n",
              "      <td>16.81</td>\n",
              "    </tr>\n",
              "    <tr>\n",
              "      <th>14</th>\n",
              "      <td>4.5</td>\n",
              "      <td>61111</td>\n",
              "      <td>274999.5</td>\n",
              "      <td>20.25</td>\n",
              "    </tr>\n",
              "    <tr>\n",
              "      <th>15</th>\n",
              "      <td>4.9</td>\n",
              "      <td>67938</td>\n",
              "      <td>332896.2</td>\n",
              "      <td>24.01</td>\n",
              "    </tr>\n",
              "    <tr>\n",
              "      <th>16</th>\n",
              "      <td>5.1</td>\n",
              "      <td>66029</td>\n",
              "      <td>336747.9</td>\n",
              "      <td>26.01</td>\n",
              "    </tr>\n",
              "    <tr>\n",
              "      <th>17</th>\n",
              "      <td>5.3</td>\n",
              "      <td>83088</td>\n",
              "      <td>440366.4</td>\n",
              "      <td>28.09</td>\n",
              "    </tr>\n",
              "    <tr>\n",
              "      <th>18</th>\n",
              "      <td>5.9</td>\n",
              "      <td>81363</td>\n",
              "      <td>480041.7</td>\n",
              "      <td>34.81</td>\n",
              "    </tr>\n",
              "    <tr>\n",
              "      <th>19</th>\n",
              "      <td>6.0</td>\n",
              "      <td>93940</td>\n",
              "      <td>563640.0</td>\n",
              "      <td>36.00</td>\n",
              "    </tr>\n",
              "    <tr>\n",
              "      <th>20</th>\n",
              "      <td>6.8</td>\n",
              "      <td>91738</td>\n",
              "      <td>623818.4</td>\n",
              "      <td>46.24</td>\n",
              "    </tr>\n",
              "    <tr>\n",
              "      <th>21</th>\n",
              "      <td>7.1</td>\n",
              "      <td>98273</td>\n",
              "      <td>697738.3</td>\n",
              "      <td>50.41</td>\n",
              "    </tr>\n",
              "    <tr>\n",
              "      <th>22</th>\n",
              "      <td>7.9</td>\n",
              "      <td>101302</td>\n",
              "      <td>800285.8</td>\n",
              "      <td>62.41</td>\n",
              "    </tr>\n",
              "    <tr>\n",
              "      <th>23</th>\n",
              "      <td>8.2</td>\n",
              "      <td>113812</td>\n",
              "      <td>933258.4</td>\n",
              "      <td>67.24</td>\n",
              "    </tr>\n",
              "    <tr>\n",
              "      <th>24</th>\n",
              "      <td>8.7</td>\n",
              "      <td>109431</td>\n",
              "      <td>952049.7</td>\n",
              "      <td>75.69</td>\n",
              "    </tr>\n",
              "    <tr>\n",
              "      <th>25</th>\n",
              "      <td>9.0</td>\n",
              "      <td>105582</td>\n",
              "      <td>950238.0</td>\n",
              "      <td>81.00</td>\n",
              "    </tr>\n",
              "    <tr>\n",
              "      <th>26</th>\n",
              "      <td>9.5</td>\n",
              "      <td>116969</td>\n",
              "      <td>1111205.5</td>\n",
              "      <td>90.25</td>\n",
              "    </tr>\n",
              "    <tr>\n",
              "      <th>27</th>\n",
              "      <td>9.6</td>\n",
              "      <td>112635</td>\n",
              "      <td>1081296.0</td>\n",
              "      <td>92.16</td>\n",
              "    </tr>\n",
              "    <tr>\n",
              "      <th>28</th>\n",
              "      <td>10.3</td>\n",
              "      <td>122391</td>\n",
              "      <td>1260627.3</td>\n",
              "      <td>106.09</td>\n",
              "    </tr>\n",
              "    <tr>\n",
              "      <th>29</th>\n",
              "      <td>10.5</td>\n",
              "      <td>121872</td>\n",
              "      <td>1279656.0</td>\n",
              "      <td>110.25</td>\n",
              "    </tr>\n",
              "  </tbody>\n",
              "</table>\n",
              "</div>"
            ],
            "text/plain": [
              "    YearsExperience  Salary  YearsExperienceBySalary  YearsExperienceSquare\n",
              "0               1.1   39343                  43277.3                   1.21\n",
              "1               1.3   46205                  60066.5                   1.69\n",
              "2               1.5   37731                  56596.5                   2.25\n",
              "3               2.0   43525                  87050.0                   4.00\n",
              "4               2.2   39891                  87760.2                   4.84\n",
              "5               2.9   56642                 164261.8                   8.41\n",
              "6               3.0   60150                 180450.0                   9.00\n",
              "7               3.2   54445                 174224.0                  10.24\n",
              "8               3.2   64445                 206224.0                  10.24\n",
              "9               3.7   57189                 211599.3                  13.69\n",
              "10              3.9   63218                 246550.2                  15.21\n",
              "11              4.0   55794                 223176.0                  16.00\n",
              "12              4.0   56957                 227828.0                  16.00\n",
              "13              4.1   57081                 234032.1                  16.81\n",
              "14              4.5   61111                 274999.5                  20.25\n",
              "15              4.9   67938                 332896.2                  24.01\n",
              "16              5.1   66029                 336747.9                  26.01\n",
              "17              5.3   83088                 440366.4                  28.09\n",
              "18              5.9   81363                 480041.7                  34.81\n",
              "19              6.0   93940                 563640.0                  36.00\n",
              "20              6.8   91738                 623818.4                  46.24\n",
              "21              7.1   98273                 697738.3                  50.41\n",
              "22              7.9  101302                 800285.8                  62.41\n",
              "23              8.2  113812                 933258.4                  67.24\n",
              "24              8.7  109431                 952049.7                  75.69\n",
              "25              9.0  105582                 950238.0                  81.00\n",
              "26              9.5  116969                1111205.5                  90.25\n",
              "27              9.6  112635                1081296.0                  92.16\n",
              "28             10.3  122391                1260627.3                 106.09\n",
              "29             10.5  121872                1279656.0                 110.25"
            ]
          },
          "metadata": {},
          "execution_count": 9
        }
      ]
    },
    {
      "cell_type": "code",
      "metadata": {
        "colab": {
          "base_uri": "https://localhost:8080/"
        },
        "id": "v_CsY5b65dPf",
        "outputId": "4a49b2bb-33c2-47ef-f264-e2367deee919"
      },
      "source": [
        "#Sumatoria de cada columna\n",
        "var=df.sum()\n",
        "var"
      ],
      "execution_count": 10,
      "outputs": [
        {
          "output_type": "execute_result",
          "data": {
            "text/plain": [
              "YearsExperience                 159.4\n",
              "Salary                      2280090.0\n",
              "YearsExperienceBySalary    14321961.0\n",
              "YearsExperienceSquare          1080.5\n",
              "dtype: float64"
            ]
          },
          "metadata": {},
          "execution_count": 10
        }
      ]
    },
    {
      "cell_type": "code",
      "metadata": {
        "colab": {
          "base_uri": "https://localhost:8080/"
        },
        "id": "hvDMEqNt6Xtr",
        "outputId": "a3f486e6-e0d6-40ea-ff0e-cdde2de5a1a3"
      },
      "source": [
        "#Valor de datos\n",
        "n=df.YearsExperience.count()\n",
        "n"
      ],
      "execution_count": 11,
      "outputs": [
        {
          "output_type": "execute_result",
          "data": {
            "text/plain": [
              "30"
            ]
          },
          "metadata": {},
          "execution_count": 11
        }
      ]
    },
    {
      "cell_type": "code",
      "metadata": {
        "id": "nZG0o9cX9uLU"
      },
      "source": [
        "#Promedio de X y y\n",
        "xProm=df.YearsExperience.mean()\n",
        "yProm=df.Salary.mean()"
      ],
      "execution_count": 12,
      "outputs": []
    },
    {
      "cell_type": "markdown",
      "metadata": {
        "id": "D_oTQ2wS0M77"
      },
      "source": [
        "**Fórmula**"
      ]
    },
    {
      "cell_type": "markdown",
      "metadata": {
        "id": "hA0yH2Y20IVe"
      },
      "source": [
        "![image.png](data:image/png;base64,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)"
      ]
    },
    {
      "cell_type": "code",
      "metadata": {
        "colab": {
          "base_uri": "https://localhost:8080/"
        },
        "id": "2SR5aL2Xprck",
        "outputId": "250075f6-e4be-4926-f316-ba0563070883"
      },
      "source": [
        "#Se obtiene la pendiente\n",
        "m =((n*var.YearsExperienceBySalary)-(var.YearsExperience*var.Salary))/((n*var.YearsExperienceSquare)-(var.YearsExperience*var.YearsExperience))\n",
        "m"
      ],
      "execution_count": 13,
      "outputs": [
        {
          "output_type": "execute_result",
          "data": {
            "text/plain": [
              "9449.962321455077"
            ]
          },
          "metadata": {},
          "execution_count": 13
        }
      ]
    },
    {
      "cell_type": "code",
      "metadata": {
        "colab": {
          "base_uri": "https://localhost:8080/"
        },
        "id": "Fz-5mEaJ9qOj",
        "outputId": "6c4eb5d1-265f-4e7c-e512-4555856d27d5"
      },
      "source": [
        "#Se obtiene b, el corte con el eje y\n",
        "b=yProm-(m*xProm)\n",
        "b"
      ],
      "execution_count": 14,
      "outputs": [
        {
          "output_type": "execute_result",
          "data": {
            "text/plain": [
              "25792.20019866869"
            ]
          },
          "metadata": {},
          "execution_count": 14
        }
      ]
    },
    {
      "cell_type": "markdown",
      "metadata": {
        "id": "ydt5JAcZ-IIL"
      },
      "source": [
        "**y=mX+b**<br>\n",
        "y=9449.96 X + 25729.2"
      ]
    },
    {
      "cell_type": "code",
      "metadata": {
        "id": "3AJPoCE6AE7j"
      },
      "source": [
        "#Definimos la función\n",
        "def y(X):\n",
        "  return (m*X)+b"
      ],
      "execution_count": 15,
      "outputs": []
    },
    {
      "cell_type": "code",
      "metadata": {
        "id": "2nmoUyIfAQwj"
      },
      "source": [
        "X = np.linspace(0,12,100)"
      ],
      "execution_count": 16,
      "outputs": []
    },
    {
      "cell_type": "code",
      "metadata": {
        "colab": {
          "base_uri": "https://localhost:8080/",
          "height": 295
        },
        "id": "9SoQ46ZvSYcq",
        "outputId": "49097734-a419-4dae-f30d-10cc15a4872a"
      },
      "source": [
        "plt.scatter(df.YearsExperience, df.Salary, color = 'red')\n",
        "plt.plot(X, y(X), color = 'blue')\n",
        "plt.title('Salario vs Experiencia')\n",
        "plt.xlabel('Años de Experiencia')\n",
        "plt.ylabel('Salario')\n",
        "plt.show()"
      ],
      "execution_count": 17,
      "outputs": [
        {
          "output_type": "display_data",
          "data": {
            "image/png": "[encoded data removed]",
            "text/plain": [
              "<Figure size 432x288 with 1 Axes>"
            ]
          },
          "metadata": {
            "needs_background": "light"
          }
        }
      ]
    },
    {
      "cell_type": "code",
      "metadata": {
        "colab": {
          "base_uri": "https://localhost:8080/"
        },
        "id": "jKEzW6m_Bwf2",
        "outputId": "3f273e01-87c2-4450-d52b-58d533ddee16"
      },
      "source": [
        "#Predicción\n",
        "xAux = input('Ingrese sus años de experciencia para saber Cuánto deberían pagarle:   ')\n",
        "xAux = float(xAux)\n",
        "print('Su Salario aproximado debería ser : ')\n",
        "y(xAux)"
      ],
      "execution_count": 18,
      "outputs": [
        {
          "output_type": "stream",
          "name": "stdout",
          "text": [
            "Ingrese sus años de experciencia para saber Cuánto deberían pagarle:   11\n",
            "Su Salario aproximado debería ser : \n"
          ]
        },
        {
          "output_type": "execute_result",
          "data": {
            "text/plain": [
              "129741.78573467454"
            ]
          },
          "metadata": {},
          "execution_count": 18
        }
      ]
    }
  ]
}